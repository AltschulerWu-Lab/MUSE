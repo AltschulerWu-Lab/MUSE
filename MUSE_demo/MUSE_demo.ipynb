{
 "cells": [
  {
   "cell_type": "markdown",
   "metadata": {},
   "source": [
    "# Demonstration of MUSE\n",
    "\n",
    "This is a demonstration of MUSE analysis on a multi-modality simulated data.\n",
    "\n",
    "Altschuler & Wu Lab 2020.\n",
    "\n",
    "Software provided as is under MIT License."
   ]
  },
  {
   "cell_type": "markdown",
   "metadata": {},
   "source": [
    "## Import packages"
   ]
  },
  {
   "cell_type": "code",
   "execution_count": 1,
   "metadata": {
    "ExecuteTime": {
     "end_time": "2020-09-01T05:40:04.591908Z",
     "start_time": "2020-09-01T05:40:02.739619Z"
    }
   },
   "outputs": [],
   "source": [
    "import test_package.muse as mu\n",
    "import simulation_tool.multi_modal_simulation as simulation\n",
    "import phenograph\n",
    "from sklearn.decomposition import PCA\n",
    "import numpy as np\n",
    "from sklearn.metrics.cluster import adjusted_rand_score\n",
    "import matplotlib.pyplot as plt\n",
    "from sklearn.manifold import TSNE\n",
    "from mofapy2.run.entry_point import entry_point\n",
    "np.random.seed(2020)"
   ]
  },
  {
   "cell_type": "markdown",
   "metadata": {},
   "source": [
    "## Generate simulation data"
   ]
  },
  {
   "cell_type": "markdown",
   "metadata": {},
   "source": [
    "Simulation parameters"
   ]
  },
  {
   "cell_type": "code",
   "execution_count": 2,
   "metadata": {
    "ExecuteTime": {
     "end_time": "2020-09-01T05:40:04.597020Z",
     "start_time": "2020-09-01T05:40:04.593830Z"
    }
   },
   "outputs": [],
   "source": [
    "latent_dim = 100\n",
    "num_cluster = 10\n",
    "sample_size = 1000\n",
    "latent_code_dim = 30\n",
    "observed_data_dim = 500\n",
    "sigma_1 = 0.1  \n",
    "sigma_2 = 0.1  \n",
    "decay_coef_1 = 0.5 \n",
    "decay_coef_2 = 0.1\n",
    "merge_prob = 0.7"
   ]
  },
  {
   "cell_type": "markdown",
   "metadata": {},
   "source": [
    "Use simulation tool to generate multi-modality data"
   ]
  },
  {
   "cell_type": "code",
   "execution_count": 3,
   "metadata": {
    "ExecuteTime": {
     "end_time": "2020-09-01T05:40:04.833561Z",
     "start_time": "2020-09-01T05:40:04.598839Z"
    }
   },
   "outputs": [],
   "source": [
    "data = simulation.multi_modal_simulator(num_cluster, sample_size,\n",
    "                                        observed_data_dim, observed_data_dim,\n",
    "                                        latent_code_dim,\n",
    "                                        sigma_1, sigma_2,\n",
    "                                        decay_coef_1, decay_coef_2,\n",
    "                                        merge_prob)\n",
    "data_a = data['data_a_dropout']\n",
    "data_b = data['data_b_dropout']\n",
    "label_a = data['data_a_label']\n",
    "label_b = data['data_b_label']\n",
    "label_true = data['true_cluster']"
   ]
  },
  {
   "cell_type": "markdown",
   "metadata": {},
   "source": [
    "## Analyses based on single modality-alone"
   ]
  },
  {
   "cell_type": "markdown",
   "metadata": {},
   "source": [
    "Learn features from single modality"
   ]
  },
  {
   "cell_type": "code",
   "execution_count": 4,
   "metadata": {
    "ExecuteTime": {
     "end_time": "2020-09-01T05:40:04.917200Z",
     "start_time": "2020-09-01T05:40:04.835942Z"
    }
   },
   "outputs": [],
   "source": [
    "view_a_feature = PCA(n_components=latent_dim).fit_transform(data_a)\n",
    "view_b_feature = PCA(n_components=latent_dim).fit_transform(data_b)"
   ]
  },
  {
   "cell_type": "markdown",
   "metadata": {},
   "source": [
    "Perform clustering using PhenoGraph"
   ]
  },
  {
   "cell_type": "code",
   "execution_count": 5,
   "metadata": {
    "ExecuteTime": {
     "end_time": "2020-09-01T05:40:08.717686Z",
     "start_time": "2020-09-01T05:40:04.919106Z"
    }
   },
   "outputs": [
    {
     "name": "stdout",
     "output_type": "stream",
     "text": [
      "Finding 30 nearest neighbors using minkowski metric and 'auto' algorithm\n",
      "Neighbors computed in 0.25688934326171875 seconds\n",
      "Jaccard graph constructed in 0.7202682495117188 seconds\n",
      "Wrote graph to binary file in 0.1590876579284668 seconds\n",
      "Running Louvain modularity optimization\n",
      "After 1 runs, maximum modularity is Q = 0.431375\n",
      "Louvain completed 21 runs in 0.7572870254516602 seconds\n",
      "PhenoGraph complete in 1.9375038146972656 seconds\n",
      "Finding 30 nearest neighbors using minkowski metric and 'auto' algorithm\n",
      "Neighbors computed in 0.2247481346130371 seconds\n",
      "Jaccard graph constructed in 0.7050290107727051 seconds\n",
      "Wrote graph to binary file in 0.08491826057434082 seconds\n",
      "Running Louvain modularity optimization\n",
      "After 1 runs, maximum modularity is Q = 0.586127\n",
      "Louvain completed 21 runs in 0.782158613204956 seconds\n",
      "PhenoGraph complete in 1.807511329650879 seconds\n"
     ]
    }
   ],
   "source": [
    "view_a_label, _, _ = phenograph.cluster(view_a_feature)\n",
    "view_b_label, _, _ = phenograph.cluster(view_b_feature)"
   ]
  },
  {
   "cell_type": "markdown",
   "metadata": {},
   "source": [
    "## Combined analysis using MUSE"
   ]
  },
  {
   "cell_type": "markdown",
   "metadata": {},
   "source": [
    "MUSE learns the joint latent representation"
   ]
  },
  {
   "cell_type": "code",
   "execution_count": 6,
   "metadata": {
    "ExecuteTime": {
     "end_time": "2020-09-01T05:42:12.229687Z",
     "start_time": "2020-09-01T05:40:08.719838Z"
    }
   },
   "outputs": [
    {
     "name": "stderr",
     "output_type": "stream",
     "text": [
      "WARNING: Logging before flag parsing goes to stderr.\n",
      "W0901 13:40:08.722533 140353699985216 deprecation_wrapper.py:119] From /home/bbnc/Documents/multi-modal/software/muse/test_package/muse.py:61: The name tf.ConfigProto is deprecated. Please use tf.compat.v1.ConfigProto instead.\n",
      "\n",
      "W0901 13:40:08.724124 140353699985216 deprecation_wrapper.py:119] From /home/bbnc/Documents/multi-modal/software/muse/test_package/muse.py:65: The name tf.reset_default_graph is deprecated. Please use tf.compat.v1.reset_default_graph instead.\n",
      "\n",
      "W0901 13:40:08.724881 140353699985216 deprecation_wrapper.py:119] From /home/bbnc/Documents/multi-modal/software/muse/test_package/muse.py:68: The name tf.placeholder is deprecated. Please use tf.compat.v1.placeholder instead.\n",
      "\n",
      "W0901 13:40:08.751532 140353699985216 deprecation_wrapper.py:119] From /home/bbnc/Documents/multi-modal/software/muse/test_package/muse_architecture.py:101: The name tf.variable_scope is deprecated. Please use tf.compat.v1.variable_scope instead.\n",
      "\n",
      "W0901 13:40:09.310131 140353699985216 lazy_loader.py:50] \n",
      "The TensorFlow contrib module will not be included in TensorFlow 2.0.\n",
      "For more information, please see:\n",
      "  * https://github.com/tensorflow/community/blob/master/rfcs/20180907-contrib-sunset.md\n",
      "  * https://github.com/tensorflow/addons\n",
      "  * https://github.com/tensorflow/io (for I/O related ops)\n",
      "If you depend on functionality not listed there, please file an issue.\n",
      "\n",
      "W0901 13:40:09.311343 140353699985216 deprecation_wrapper.py:119] From /home/bbnc/Documents/multi-modal/software/muse/test_package/muse_architecture.py:137: The name tf.get_variable is deprecated. Please use tf.compat.v1.get_variable instead.\n",
      "\n",
      "W0901 13:40:09.386615 140353699985216 deprecation.py:506] From /home/bbnc/Documents/multi-modal/software/muse/test_package/muse_architecture.py:177: calling dropout (from tensorflow.python.ops.nn_ops) with keep_prob is deprecated and will be removed in a future version.\n",
      "Instructions for updating:\n",
      "Please use `rate` instead of `keep_prob`. Rate should be set to `rate = 1 - keep_prob`.\n",
      "W0901 13:40:09.495313 140353699985216 deprecation.py:323] From /home/bbnc/Documents/multi-modal/software/muse/test_package/triplet_loss.py:38: to_float (from tensorflow.python.ops.math_ops) is deprecated and will be removed in a future version.\n",
      "Instructions for updating:\n",
      "Use `tf.cast` instead.\n",
      "W0901 13:40:09.512623 140353699985216 deprecation_wrapper.py:119] From /home/bbnc/Documents/multi-modal/software/muse/test_package/triplet_loss.py:190: The name tf.summary.scalar is deprecated. Please use tf.compat.v1.summary.scalar instead.\n",
      "\n",
      "W0901 13:40:09.668512 140353699985216 deprecation_wrapper.py:119] From /home/bbnc/Documents/multi-modal/software/muse/test_package/muse.py:96: The name tf.train.AdamOptimizer is deprecated. Please use tf.compat.v1.train.AdamOptimizer instead.\n",
      "\n",
      "W0901 13:40:09.741025 140353699985216 deprecation.py:323] From /home/bbnc/anaconda3/lib/python3.7/site-packages/tensorflow/python/ops/math_grad.py:1250: add_dispatch_support.<locals>.wrapper (from tensorflow.python.ops.array_ops) is deprecated and will be removed in a future version.\n",
      "Instructions for updating:\n",
      "Use tf.where in 2.0, which has the same broadcast rule as np.where\n"
     ]
    },
    {
     "name": "stdout",
     "output_type": "stream",
     "text": [
      "MUSE initialization\n",
      "epoch: 0, \t total loss: 1937.36060,\t reconstruction loss: 945.29010,\t sparse penalty: 198.41411\n",
      "epoch: 50, \t total loss: 1093.36084,\t reconstruction loss: 155.71954,\t sparse penalty: 187.52826\n",
      "epoch: 0, \t total loss: 1084.80383,\t reconstruction loss: 155.72737,\t sparse penalty: 176.44608,\t x triplet: 4.58603,\t y triplet: 4.78319\n",
      "epoch: 50, \t total loss: 989.47198,\t reconstruction loss: 155.74104,\t sparse penalty: 165.66296,\t x triplet: 0.67689,\t y triplet: 0.40634\n",
      "Finding 30 nearest neighbors using minkowski metric and 'auto' algorithm\n",
      "Neighbors computed in 0.32195210456848145 seconds\n",
      "Jaccard graph constructed in 1.8795032501220703 seconds\n",
      "Wrote graph to binary file in 0.06057572364807129 seconds\n",
      "Running Louvain modularity optimization\n",
      "After 1 runs, maximum modularity is Q = 0.86509\n",
      "Louvain completed 21 runs in 1.8471779823303223 seconds\n",
      "PhenoGraph complete in 4.122953653335571 seconds\n",
      "Finding 30 nearest neighbors using minkowski metric and 'auto' algorithm\n",
      "Neighbors computed in 0.13123846054077148 seconds\n",
      "Jaccard graph constructed in 2.0867908000946045 seconds\n",
      "Wrote graph to binary file in 0.07008218765258789 seconds\n",
      "Running Louvain modularity optimization\n",
      "After 1 runs, maximum modularity is Q = 0.778813\n",
      "Louvain completed 21 runs in 1.8441863059997559 seconds\n",
      "PhenoGraph complete in 4.1465606689453125 seconds\n",
      "Finish initialization of MUSE\n",
      "epoch: 0, \t total loss: 949.58020,\t reconstruction loss: 155.73036,\t sparse penalty: 155.21228,\t x triplet loss: 0.87813,\t y triplet loss: 2.67957\n",
      "Finding 30 nearest neighbors using minkowski metric and 'auto' algorithm\n",
      "Neighbors computed in 0.12653279304504395 seconds\n",
      "Jaccard graph constructed in 2.0912535190582275 seconds\n",
      "Wrote graph to binary file in 0.29642772674560547 seconds\n",
      "Running Louvain modularity optimization\n",
      "After 1 runs, maximum modularity is Q = 0.865129\n",
      "Louvain completed 21 runs in 1.6651537418365479 seconds\n",
      "PhenoGraph complete in 4.195162057876587 seconds\n",
      "Finding 30 nearest neighbors using minkowski metric and 'auto' algorithm\n",
      "Neighbors computed in 0.12719249725341797 seconds\n",
      "Jaccard graph constructed in 2.1279895305633545 seconds\n",
      "Wrote graph to binary file in 0.06876468658447266 seconds\n",
      "Running Louvain modularity optimization\n",
      "After 1 runs, maximum modularity is Q = 0.780805\n",
      "Louvain completed 21 runs in 1.7539770603179932 seconds\n",
      "PhenoGraph complete in 4.09058690071106 seconds\n",
      "epoch: 50, \t total loss: 889.99042,\t reconstruction loss: 155.74423,\t sparse penalty: 145.12698,\t x triplet loss: 0.77241,\t y triplet loss: 0.94985\n",
      "epoch: 100, \t total loss: 841.02295,\t reconstruction loss: 155.74335,\t sparse penalty: 135.42714,\t x triplet loss: 0.71533,\t y triplet loss: 0.91345\n",
      "epoch: 150, \t total loss: 793.91742,\t reconstruction loss: 155.74982,\t sparse penalty: 126.12830,\t x triplet loss: 0.70225,\t y triplet loss: 0.80295\n",
      "epoch: 200, \t total loss: 749.06641,\t reconstruction loss: 155.75227,\t sparse penalty: 117.21988,\t x triplet loss: 0.57460,\t y triplet loss: 0.86836\n",
      "Finding 30 nearest neighbors using minkowski metric and 'auto' algorithm\n",
      "Neighbors computed in 0.23929953575134277 seconds\n",
      "Jaccard graph constructed in 2.210306406021118 seconds\n",
      "Wrote graph to binary file in 0.3030252456665039 seconds\n",
      "Running Louvain modularity optimization\n",
      "After 1 runs, maximum modularity is Q = 0.867709\n",
      "Louvain completed 21 runs in 1.711575984954834 seconds\n",
      "PhenoGraph complete in 4.480071783065796 seconds\n",
      "Finding 30 nearest neighbors using minkowski metric and 'auto' algorithm\n",
      "Neighbors computed in 0.12685775756835938 seconds\n",
      "Jaccard graph constructed in 2.0586225986480713 seconds\n",
      "Wrote graph to binary file in 0.08961081504821777 seconds\n",
      "Running Louvain modularity optimization\n",
      "After 1 runs, maximum modularity is Q = 0.796241\n",
      "Louvain completed 21 runs in 1.9341139793395996 seconds\n",
      "PhenoGraph complete in 4.22274112701416 seconds\n",
      "epoch: 250, \t total loss: 706.77106,\t reconstruction loss: 155.74164,\t sparse penalty: 108.70841,\t x triplet loss: 0.65315,\t y triplet loss: 0.84432\n",
      "epoch: 300, \t total loss: 665.60760,\t reconstruction loss: 155.74655,\t sparse penalty: 100.59528,\t x triplet loss: 0.60664,\t y triplet loss: 0.77030\n",
      "epoch: 350, \t total loss: 627.66461,\t reconstruction loss: 155.75706,\t sparse penalty: 92.87994,\t x triplet loss: 0.67669,\t y triplet loss: 0.82488\n",
      "epoch: 400, \t total loss: 591.45172,\t reconstruction loss: 155.74715,\t sparse penalty: 85.56075,\t x triplet loss: 0.75172,\t y triplet loss: 0.82845\n",
      "Finding 30 nearest neighbors using minkowski metric and 'auto' algorithm\n",
      "Neighbors computed in 0.2391202449798584 seconds\n",
      "Jaccard graph constructed in 2.2047078609466553 seconds\n",
      "Wrote graph to binary file in 0.0841977596282959 seconds\n",
      "Running Louvain modularity optimization\n",
      "After 1 runs, maximum modularity is Q = 0.868107\n",
      "Louvain completed 21 runs in 1.791353464126587 seconds\n",
      "PhenoGraph complete in 4.333872318267822 seconds\n",
      "Finding 30 nearest neighbors using minkowski metric and 'auto' algorithm\n",
      "Neighbors computed in 0.12797927856445312 seconds\n",
      "Jaccard graph constructed in 2.0351405143737793 seconds\n",
      "Wrote graph to binary file in 0.3006269931793213 seconds\n",
      "Running Louvain modularity optimization\n",
      "After 1 runs, maximum modularity is Q = 0.795766\n",
      "Louvain completed 21 runs in 1.8290116786956787 seconds\n",
      "PhenoGraph complete in 4.3051183223724365 seconds\n",
      "epoch: 450, \t total loss: 556.48193,\t reconstruction loss: 155.74480,\t sparse penalty: 78.63441,\t x triplet loss: 0.62897,\t y triplet loss: 0.88404\n"
     ]
    }
   ],
   "source": [
    "muce_feature, reconstruct_x, reconstruct_y, \\\n",
    "latent_x, latent_y = mu.muse_fit_predict(data_a,\n",
    "                                         data_b,\n",
    "                                         label_a,\n",
    "                                         label_b,\n",
    "                                         latent_dim=100,\n",
    "                                         n_epochs=500,\n",
    "                                         lambda_regul=5,\n",
    "                                         lambda_super=5)"
   ]
  },
  {
   "cell_type": "markdown",
   "metadata": {},
   "source": [
    "PhenoGraph clustering"
   ]
  },
  {
   "cell_type": "code",
   "execution_count": 7,
   "metadata": {
    "ExecuteTime": {
     "end_time": "2020-09-01T05:42:16.403689Z",
     "start_time": "2020-09-01T05:42:12.233780Z"
    }
   },
   "outputs": [
    {
     "name": "stdout",
     "output_type": "stream",
     "text": [
      "Finding 30 nearest neighbors using minkowski metric and 'auto' algorithm\n",
      "Neighbors computed in 0.13085508346557617 seconds\n",
      "Jaccard graph constructed in 2.2258334159851074 seconds\n",
      "Wrote graph to binary file in 0.07401537895202637 seconds\n",
      "Running Louvain modularity optimization\n",
      "After 1 runs, maximum modularity is Q = 0.899185\n",
      "Louvain completed 21 runs in 1.6834919452667236 seconds\n",
      "PhenoGraph complete in 4.126061916351318 seconds\n"
     ]
    }
   ],
   "source": [
    "muce_label, _, _ = phenograph.cluster(muce_feature)"
   ]
  },
  {
   "cell_type": "markdown",
   "metadata": {
    "ExecuteTime": {
     "end_time": "2020-09-01T05:23:58.978335Z",
     "start_time": "2020-09-01T05:23:58.974141Z"
    }
   },
   "source": [
    "## Visualization of latent spaces \n",
    "Latent spaces of single-modality features or MUSE features were visualized using tSNE, with ground truth cluster labels.\n",
    "\n",
    "Cluster accuries were quantified using adjusted Rand index (ARI). ARI = 1 indicates perfectly discover true cell identities."
   ]
  },
  {
   "cell_type": "code",
   "execution_count": 8,
   "metadata": {
    "ExecuteTime": {
     "end_time": "2020-09-01T05:42:34.734602Z",
     "start_time": "2020-09-01T05:42:16.408056Z"
    }
   },
   "outputs": [
    {
     "data": {
      "image/png": "[encoded data removed]",
      "text/plain": [
       "<Figure size 720x216 with 3 Axes>"
      ]
     },
     "metadata": {
      "needs_background": "light"
     },
     "output_type": "display_data"
    }
   ],
   "source": [
    "plt.figure(figsize=(10, 3))\n",
    "plt.subplot(1, 3, 1)\n",
    "X_embedded = TSNE(n_components=2).fit_transform(view_a_feature)\n",
    "for i in np.unique(label_true):\n",
    "    idx = np.nonzero(label_true == i)[0]\n",
    "    plt.scatter(X_embedded[idx, 0], X_embedded[idx, 1])\n",
    "    plt.title('Transcript-alone, ARI = %01.3f' % adjusted_rand_score(label_true, view_a_label))\n",
    "\n",
    "plt.subplot(1, 3, 2)\n",
    "X_embedded = TSNE(n_components=2).fit_transform(view_b_feature)\n",
    "for i in np.unique(label_true):\n",
    "    idx = np.nonzero(label_true == i)[0]\n",
    "    plt.scatter(X_embedded[idx, 0], X_embedded[idx, 1])\n",
    "    plt.title('Morphology-alone, ARI = %01.3f' % adjusted_rand_score(label_true, view_b_label))\n",
    "\n",
    "plt.subplot(1, 3, 3)\n",
    "X_embedded = TSNE(n_components=2).fit_transform(muce_feature)\n",
    "for i in np.unique(label_true):\n",
    "    idx = np.nonzero(label_true == i)[0]\n",
    "    plt.scatter(X_embedded[idx, 0], X_embedded[idx, 1])\n",
    "    plt.title('MUSE, ARI = %01.3f' % adjusted_rand_score(label_true, muce_label))"
   ]
  },
  {
   "cell_type": "code",
   "execution_count": null,
   "metadata": {},
   "outputs": [],
   "source": []
  }
 ],
 "metadata": {
  "kernelspec": {
   "display_name": "Python 3",
   "language": "python",
   "name": "python3"
  },
  "language_info": {
   "codemirror_mode": {
    "name": "ipython",
    "version": 3
   },
   "file_extension": ".py",
   "mimetype": "text/x-python",
   "name": "python",
   "nbconvert_exporter": "python",
   "pygments_lexer": "ipython3",
   "version": "3.7.3"
  },
  "latex_envs": {
   "LaTeX_envs_menu_present": true,
   "autoclose": false,
   "autocomplete": true,
   "bibliofile": "biblio.bib",
   "cite_by": "apalike",
   "current_citInitial": 1,
   "eqLabelWithNumbers": true,
   "eqNumInitial": 1,
   "hotkeys": {
    "equation": "Ctrl-E",
    "itemize": "Ctrl-I"
   },
   "labels_anchors": false,
   "latex_user_defs": false,
   "report_style_numbering": false,
   "user_envs_cfg": false
  },
  "toc": {
   "base_numbering": 1,
   "nav_menu": {},
   "number_sections": true,
   "sideBar": true,
   "skip_h1_title": false,
   "title_cell": "Table of Contents",
   "title_sidebar": "Contents",
   "toc_cell": false,
   "toc_position": {},
   "toc_section_display": true,
   "toc_window_display": false
  },
  "varInspector": {
   "cols": {
    "lenName": 16,
    "lenType": 16,
    "lenVar": 40
   },
   "kernels_config": {
    "python": {
     "delete_cmd_postfix": "",
     "delete_cmd_prefix": "del ",
     "library": "var_list.py",
     "varRefreshCmd": "print(var_dic_list())"
    },
    "r": {
     "delete_cmd_postfix": ") ",
     "delete_cmd_prefix": "rm(",
     "library": "var_list.r",
     "varRefreshCmd": "cat(var_dic_list()) "
    }
   },
   "types_to_exclude": [
    "module",
    "function",
    "builtin_function_or_method",
    "instance",
    "_Feature"
   ],
   "window_display": false
  }
 },
 "nbformat": 4,
 "nbformat_minor": 2
}
