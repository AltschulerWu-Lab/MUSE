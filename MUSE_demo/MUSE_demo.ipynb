{
 "cells": [
  {
   "cell_type": "markdown",
   "metadata": {},
   "source": [
    "# Demonstration of MUSE\n",
    "\n",
    "This is a demonstration of MUSE analysis on a multi-modality simulated data.\n",
    "\n",
    "Altschuler & Wu Lab 2020.\n",
    "\n",
    "Software provided as is under MIT License."
   ]
  },
  {
   "cell_type": "markdown",
   "metadata": {},
   "source": [
    "## Import packages"
   ]
  },
  {
   "cell_type": "code",
   "execution_count": 1,
   "metadata": {
    "ExecuteTime": {
     "end_time": "2020-09-02T23:17:55.894217Z",
     "start_time": "2020-09-02T23:17:54.048703Z"
    }
   },
   "outputs": [],
   "source": [
    "import muse_sc as muse\n",
    "import simulation_tool.multi_modal_simulation as simulation\n",
    "\n",
    "import phenograph\n",
    "from sklearn.decomposition import PCA\n",
    "import numpy as np\n",
    "from sklearn.metrics.cluster import adjusted_rand_score\n",
    "import matplotlib.pyplot as plt\n",
    "from sklearn.manifold import TSNE\n",
    "import tensorflow as tf\n",
    "tf.get_logger().setLevel('ERROR')\n",
    "np.random.seed(0)"
   ]
  },
  {
   "cell_type": "markdown",
   "metadata": {},
   "source": [
    "## Generate simulation data"
   ]
  },
  {
   "cell_type": "markdown",
   "metadata": {},
   "source": [
    "Simulation parameters"
   ]
  },
  {
   "cell_type": "code",
   "execution_count": 2,
   "metadata": {
    "ExecuteTime": {
     "end_time": "2020-09-02T23:17:55.899606Z",
     "start_time": "2020-09-02T23:17:55.896369Z"
    }
   },
   "outputs": [],
   "source": [
    "latent_dim = 100\n",
    "num_cluster = 10\n",
    "sample_size = 1000\n",
    "latent_code_dim = 30\n",
    "observed_data_dim = 500\n",
    "sigma_1 = 0.1  \n",
    "sigma_2 = 0.1  \n",
    "decay_coef_1 = 0.5 \n",
    "decay_coef_2 = 0.1\n",
    "merge_prob = 0.7"
   ]
  },
  {
   "cell_type": "markdown",
   "metadata": {},
   "source": [
    "Use simulation tool to generate multi-modality data"
   ]
  },
  {
   "cell_type": "code",
   "execution_count": 3,
   "metadata": {
    "ExecuteTime": {
     "end_time": "2020-09-02T23:17:56.132260Z",
     "start_time": "2020-09-02T23:17:55.901496Z"
    }
   },
   "outputs": [],
   "source": [
    "data = simulation.multi_modal_simulator(num_cluster, sample_size,\n",
    "                                        observed_data_dim, observed_data_dim,\n",
    "                                        latent_code_dim,\n",
    "                                        sigma_1, sigma_2,\n",
    "                                        decay_coef_1, decay_coef_2,\n",
    "                                        merge_prob)\n",
    "data_a = data['data_a_dropout']\n",
    "data_b = data['data_b_dropout']\n",
    "label_a = data['data_a_label']\n",
    "label_b = data['data_b_label']\n",
    "label_true = data['true_cluster']"
   ]
  },
  {
   "cell_type": "markdown",
   "metadata": {},
   "source": [
    "## Analyses based on single modality"
   ]
  },
  {
   "cell_type": "markdown",
   "metadata": {},
   "source": [
    "Learn features from single modality"
   ]
  },
  {
   "cell_type": "code",
   "execution_count": 4,
   "metadata": {
    "ExecuteTime": {
     "end_time": "2020-09-02T23:17:56.215252Z",
     "start_time": "2020-09-02T23:17:56.134649Z"
    }
   },
   "outputs": [],
   "source": [
    "view_a_feature = PCA(n_components=latent_dim).fit_transform(data_a)\n",
    "view_b_feature = PCA(n_components=latent_dim).fit_transform(data_b)"
   ]
  },
  {
   "cell_type": "markdown",
   "metadata": {},
   "source": [
    "Perform clustering using PhenoGraph"
   ]
  },
  {
   "cell_type": "code",
   "execution_count": 5,
   "metadata": {
    "ExecuteTime": {
     "end_time": "2020-09-02T23:18:00.354848Z",
     "start_time": "2020-09-02T23:17:56.217164Z"
    }
   },
   "outputs": [
    {
     "name": "stdout",
     "output_type": "stream",
     "text": [
      "Finding 30 nearest neighbors using minkowski metric and 'auto' algorithm\n",
      "Neighbors computed in 0.24274897575378418 seconds\n",
      "Jaccard graph constructed in 0.6780366897583008 seconds\n",
      "Wrote graph to binary file in 0.17591404914855957 seconds\n",
      "Running Louvain modularity optimization\n",
      "After 1 runs, maximum modularity is Q = 0.5281\n",
      "After 3 runs, maximum modularity is Q = 0.531725\n",
      "Louvain completed 23 runs in 1.0269584655761719 seconds\n",
      "PhenoGraph complete in 2.160290479660034 seconds\n",
      "Finding 30 nearest neighbors using minkowski metric and 'auto' algorithm\n",
      "Neighbors computed in 0.3270394802093506 seconds\n",
      "Jaccard graph constructed in 0.6828784942626953 seconds\n",
      "Wrote graph to binary file in 0.1006464958190918 seconds\n",
      "Running Louvain modularity optimization\n",
      "After 1 runs, maximum modularity is Q = 0.670447\n",
      "Louvain completed 21 runs in 0.7937324047088623 seconds\n",
      "PhenoGraph complete in 1.9155867099761963 seconds\n"
     ]
    }
   ],
   "source": [
    "view_a_label, _, _ = phenograph.cluster(view_a_feature)\n",
    "view_b_label, _, _ = phenograph.cluster(view_b_feature)"
   ]
  },
  {
   "cell_type": "markdown",
   "metadata": {},
   "source": [
    "## Combined analysis using MUSE"
   ]
  },
  {
   "cell_type": "markdown",
   "metadata": {},
   "source": [
    "MUSE learns the joint latent representation"
   ]
  },
  {
   "cell_type": "code",
   "execution_count": null,
   "metadata": {
    "ExecuteTime": {
     "start_time": "2020-09-02T23:17:54.011Z"
    }
   },
   "outputs": [
    {
     "name": "stderr",
     "output_type": "stream",
     "text": [
      "/home/bbnc/anaconda3/lib/python3.7/site-packages/dask/config.py:168: YAMLLoadWarning: calling yaml.load() without Loader=... is deprecated, as the default Loader is unsafe. Please read https://msg.pyyaml.org/load for full details.\n",
      "  data = yaml.load(f.read()) or {}\n"
     ]
    },
    {
     "name": "stdout",
     "output_type": "stream",
     "text": [
      "MUSE initialization\n",
      "epoch: 0, \t total loss: 1878.41858,\t reconstruction loss: 875.39502,\t sparse penalty: 200.60471\n",
      "epoch: 50, \t total loss: 1102.12756,\t reconstruction loss: 154.48811,\t sparse penalty: 189.52789\n",
      "epoch: 100, \t total loss: 1046.45496,\t reconstruction loss: 154.49231,\t sparse penalty: 178.39253\n",
      "epoch: 150, \t total loss: 992.34967,\t reconstruction loss: 154.50757,\t sparse penalty: 167.56842\n",
      "epoch: 0, \t total loss: 985.38654,\t reconstruction loss: 154.51338,\t sparse penalty: 157.10980,\t x triplet: 4.39213,\t y triplet: 4.67269\n",
      "epoch: 50, \t total loss: 922.62885,\t reconstruction loss: 154.51761,\t sparse penalty: 147.04427,\t x triplet: 3.41231,\t y triplet: 3.16568\n",
      "epoch: 100, \t total loss: 869.48053,\t reconstruction loss: 154.51697,\t sparse penalty: 137.35999,\t x triplet: 2.89788,\t y triplet: 2.73485\n",
      "epoch: 150, \t total loss: 821.07928,\t reconstruction loss: 154.51852,\t sparse penalty: 128.06015,\t x triplet: 2.57984,\t y triplet: 2.67215\n",
      "Finding 30 nearest neighbors using minkowski metric and 'auto' algorithm\n",
      "Neighbors computed in 0.23156356811523438 seconds\n",
      "Jaccard graph constructed in 1.8996119499206543 seconds\n",
      "Wrote graph to binary file in 0.2968604564666748 seconds\n",
      "Running Louvain modularity optimization\n",
      "After 1 runs, maximum modularity is Q = 0.844176\n",
      "Louvain completed 21 runs in 1.8590075969696045 seconds\n",
      "PhenoGraph complete in 4.300447702407837 seconds\n",
      "Finding 30 nearest neighbors using minkowski metric and 'auto' algorithm\n",
      "Neighbors computed in 0.23079180717468262 seconds\n",
      "Jaccard graph constructed in 1.9124138355255127 seconds\n",
      "Wrote graph to binary file in 0.12676000595092773 seconds\n",
      "Running Louvain modularity optimization\n",
      "After 1 runs, maximum modularity is Q = 0.83693\n",
      "Louvain completed 21 runs in 1.8631317615509033 seconds\n",
      "PhenoGraph complete in 4.149277448654175 seconds\n",
      "Finish initialization of MUSE\n",
      "epoch: 0, \t total loss: 782.64050,\t reconstruction loss: 154.52432,\t sparse penalty: 119.15158,\t x triplet loss: 3.04183,\t y triplet loss: 3.42982\n",
      "Finding 30 nearest neighbors using minkowski metric and 'auto' algorithm\n",
      "Neighbors computed in 0.22691082954406738 seconds\n",
      "Jaccard graph constructed in 1.9688081741333008 seconds\n",
      "Wrote graph to binary file in 0.34247684478759766 seconds\n",
      "Running Louvain modularity optimization\n",
      "After 1 runs, maximum modularity is Q = 0.844091\n",
      "Louvain completed 21 runs in 1.85996413230896 seconds\n",
      "PhenoGraph complete in 4.411003828048706 seconds\n",
      "Finding 30 nearest neighbors using minkowski metric and 'auto' algorithm\n",
      "Neighbors computed in 0.12457489967346191 seconds\n",
      "Jaccard graph constructed in 1.9171838760375977 seconds\n",
      "Wrote graph to binary file in 0.07050204277038574 seconds\n",
      "Running Louvain modularity optimization\n",
      "After 1 runs, maximum modularity is Q = 0.836868\n",
      "Louvain completed 21 runs in 1.8981537818908691 seconds\n",
      "PhenoGraph complete in 4.0241475105285645 seconds\n",
      "epoch: 50, \t total loss: 732.18616,\t reconstruction loss: 154.51985,\t sparse penalty: 110.63824,\t x triplet loss: 2.33186,\t y triplet loss: 2.56316\n",
      "epoch: 100, \t total loss: 690.76343,\t reconstruction loss: 154.51433,\t sparse penalty: 102.52214,\t x triplet loss: 2.23891,\t y triplet loss: 2.48877\n",
      "epoch: 150, \t total loss: 651.99402,\t reconstruction loss: 154.52776,\t sparse penalty: 94.80370,\t x triplet loss: 2.18111,\t y triplet loss: 2.50845\n"
     ]
    }
   ],
   "source": [
    "muse_feature, reconstruct_x, reconstruct_y, \\\n",
    "latent_x, latent_y = muse.muse_fit_predict(data_a,\n",
    "                                           data_b,\n",
    "                                           view_a_label,\n",
    "                                           view_b_label,\n",
    "                                           latent_dim=100,\n",
    "                                           n_epochs=500,\n",
    "                                           lambda_regul=5,\n",
    "                                           lambda_super=5)"
   ]
  },
  {
   "cell_type": "markdown",
   "metadata": {},
   "source": [
    "PhenoGraph clustering"
   ]
  },
  {
   "cell_type": "code",
   "execution_count": null,
   "metadata": {
    "ExecuteTime": {
     "start_time": "2020-09-02T23:17:54.020Z"
    }
   },
   "outputs": [],
   "source": [
    "muse_label, _, _ = phenograph.cluster(muse_feature)"
   ]
  },
  {
   "cell_type": "markdown",
   "metadata": {
    "ExecuteTime": {
     "end_time": "2020-09-01T05:23:58.978335Z",
     "start_time": "2020-09-01T05:23:58.974141Z"
    }
   },
   "source": [
    "## Visualization of latent spaces \n",
    "Latent spaces of single-modality features or MUSE features were visualized using tSNE, with ground truth cluster labels.\n",
    "\n",
    "Cluster accuries were quantified using adjusted Rand index (ARI). ARI = 1 indicates perfectly discover true cell identities."
   ]
  },
  {
   "cell_type": "code",
   "execution_count": null,
   "metadata": {
    "ExecuteTime": {
     "start_time": "2020-09-02T23:17:54.031Z"
    }
   },
   "outputs": [],
   "source": [
    "plt.figure(figsize=(17, 5))\n",
    "plt.subplot(1, 3, 1)\n",
    "X_embedded = TSNE(n_components=2).fit_transform(view_a_feature)\n",
    "for i in np.unique(label_true):\n",
    "    idx = np.nonzero(label_true == i)[0]\n",
    "    plt.scatter(X_embedded[idx, 0], X_embedded[idx, 1])\n",
    "    plt.title('Transcript-alone, ARI = %01.3f' % adjusted_rand_score(label_true, view_a_label))\n",
    "\n",
    "plt.subplot(1, 3, 2)\n",
    "X_embedded = TSNE(n_components=2).fit_transform(view_b_feature)\n",
    "for i in np.unique(label_true):\n",
    "    idx = np.nonzero(label_true == i)[0]\n",
    "    plt.scatter(X_embedded[idx, 0], X_embedded[idx, 1])\n",
    "    plt.title('Morphology-alone, ARI = %01.3f' % adjusted_rand_score(label_true, view_b_label))\n",
    "\n",
    "plt.subplot(1, 3, 3)\n",
    "X_embedded = TSNE(n_components=2).fit_transform(muse_feature)\n",
    "for i in np.unique(label_true):\n",
    "    idx = np.nonzero(label_true == i)[0]\n",
    "    plt.scatter(X_embedded[idx, 0], X_embedded[idx, 1])\n",
    "    plt.title('MUSE, ARI = %01.3f' % adjusted_rand_score(label_true, muse_label))"
   ]
  },
  {
   "cell_type": "code",
   "execution_count": null,
   "metadata": {},
   "outputs": [],
   "source": []
  }
 ],
 "metadata": {
  "kernelspec": {
   "display_name": "Python 3",
   "language": "python",
   "name": "python3"
  },
  "language_info": {
   "codemirror_mode": {
    "name": "ipython",
    "version": 3
   },
   "file_extension": ".py",
   "mimetype": "text/x-python",
   "name": "python",
   "nbconvert_exporter": "python",
   "pygments_lexer": "ipython3",
   "version": "3.7.3"
  },
  "latex_envs": {
   "LaTeX_envs_menu_present": true,
   "autoclose": false,
   "autocomplete": true,
   "bibliofile": "biblio.bib",
   "cite_by": "apalike",
   "current_citInitial": 1,
   "eqLabelWithNumbers": true,
   "eqNumInitial": 1,
   "hotkeys": {
    "equation": "Ctrl-E",
    "itemize": "Ctrl-I"
   },
   "labels_anchors": false,
   "latex_user_defs": false,
   "report_style_numbering": false,
   "user_envs_cfg": false
  },
  "toc": {
   "base_numbering": 1,
   "nav_menu": {},
   "number_sections": true,
   "sideBar": true,
   "skip_h1_title": false,
   "title_cell": "Table of Contents",
   "title_sidebar": "Contents",
   "toc_cell": false,
   "toc_position": {},
   "toc_section_display": true,
   "toc_window_display": false
  },
  "varInspector": {
   "cols": {
    "lenName": 16,
    "lenType": 16,
    "lenVar": 40
   },
   "kernels_config": {
    "python": {
     "delete_cmd_postfix": "",
     "delete_cmd_prefix": "del ",
     "library": "var_list.py",
     "varRefreshCmd": "print(var_dic_list())"
    },
    "r": {
     "delete_cmd_postfix": ") ",
     "delete_cmd_prefix": "rm(",
     "library": "var_list.r",
     "varRefreshCmd": "cat(var_dic_list()) "
    }
   },
   "types_to_exclude": [
    "module",
    "function",
    "builtin_function_or_method",
    "instance",
    "_Feature"
   ],
   "window_display": false
  }
 },
 "nbformat": 4,
 "nbformat_minor": 2
}
